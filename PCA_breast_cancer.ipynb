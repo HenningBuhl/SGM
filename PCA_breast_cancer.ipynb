{
  "nbformat": 4,
  "nbformat_minor": 0,
  "metadata": {
    "colab": {
      "name": "PCA_breast_cancer.ipynb",
      "private_outputs": true,
      "provenance": [],
      "collapsed_sections": [],
      "toc_visible": true,
      "include_colab_link": true
    },
    "kernelspec": {
      "name": "python3",
      "display_name": "Python 3"
    }
  },
  "cells": [
    {
      "cell_type": "markdown",
      "metadata": {
        "id": "view-in-github",
        "colab_type": "text"
      },
      "source": [
        "<a href=\"https://colab.research.google.com/github/HenningBuhl/SGM/blob/main/PCA_breast_cancer.ipynb\" target=\"_parent\"><img src=\"https://colab.research.google.com/assets/colab-badge.svg\" alt=\"Open In Colab\"/></a>"
      ]
    },
    {
      "cell_type": "markdown",
      "metadata": {
        "id": "UhEuYr6l23lM"
      },
      "source": [
        "# PCA Breast Cancer"
      ]
    },
    {
      "cell_type": "markdown",
      "metadata": {
        "id": "NGU221uNKdmX"
      },
      "source": [
        "# TODO"
      ]
    },
    {
      "cell_type": "code",
      "metadata": {
        "id": "KD8HslD9QiVG"
      },
      "source": [
        "\"\"\"\n",
        "\n",
        "TODO:\n",
        "\n",
        "\"\"\""
      ],
      "execution_count": null,
      "outputs": []
    },
    {
      "cell_type": "markdown",
      "metadata": {
        "id": "uLZ9ayvKoVsg"
      },
      "source": [
        "# Settings"
      ]
    },
    {
      "cell_type": "markdown",
      "metadata": {
        "id": "oDD6XzsUoVnm"
      },
      "source": [
        "## Seed Settings"
      ]
    },
    {
      "cell_type": "code",
      "metadata": {
        "id": "SJqGLE9aoVfA"
      },
      "source": [
        "import numpy as np\n",
        "np.random.seed(0)"
      ],
      "execution_count": null,
      "outputs": []
    },
    {
      "cell_type": "markdown",
      "metadata": {
        "id": "uC26nG0PSRKp"
      },
      "source": [
        "## Plot Settings"
      ]
    },
    {
      "cell_type": "code",
      "metadata": {
        "id": "xaO4w2PVSRGg"
      },
      "source": [
        "plot_width = 8\n",
        "plot_height = 8\n",
        "font_scale = 1.5\n",
        "title_size = 28\n",
        "label_size = 22\n",
        "dpi = 80"
      ],
      "execution_count": null,
      "outputs": []
    },
    {
      "cell_type": "code",
      "metadata": {
        "id": "bVWoIW3S1kBy"
      },
      "source": [
        "from matplotlib import pyplot as plt\n",
        "import matplotlib.patches as mpatches\n",
        "import matplotlib\n",
        "from mpl_toolkits.mplot3d import Axes3D\n",
        "plt.rcParams[\"figure.figsize\"] = (plot_width, plot_height)\n",
        "#% matplotlib notebook\n",
        "\n",
        "import seaborn as sns\n",
        "sns.set(font_scale=font_scale) # Affects all plots."
      ],
      "execution_count": null,
      "outputs": []
    },
    {
      "cell_type": "markdown",
      "metadata": {
        "id": "FCH3bq5nsPV0"
      },
      "source": [
        "# Data"
      ]
    },
    {
      "cell_type": "markdown",
      "metadata": {
        "id": "c4MmYdibQpdL"
      },
      "source": [
        "## Paths"
      ]
    },
    {
      "cell_type": "code",
      "metadata": {
        "id": "bg32iXa8QpsX"
      },
      "source": [
        "data_set_name = \"breast cancer\"\n",
        "base_dir = f\"./data/{data_set_name}/\"\n",
        "zip_path = base_dir + f\"{data_set_name}.zip\"\n",
        "data_path = base_dir + \"wdbc.data\" # \"breast-cancer-wisconsin.data\""
      ],
      "execution_count": null,
      "outputs": []
    },
    {
      "cell_type": "markdown",
      "metadata": {
        "id": "ufyQMwAHMn-C"
      },
      "source": [
        "## Clear Directories"
      ]
    },
    {
      "cell_type": "code",
      "metadata": {
        "id": "d2RxICfHMoV3"
      },
      "source": [
        "import shutil\n",
        "#shutil.rmtree(\"/content/results\")"
      ],
      "execution_count": null,
      "outputs": []
    },
    {
      "cell_type": "markdown",
      "metadata": {
        "id": "KTkNKYT3O_s5"
      },
      "source": [
        "## Download"
      ]
    },
    {
      "cell_type": "code",
      "metadata": {
        "id": "mhMWoGqF-UQ5"
      },
      "source": [
        "# Load data from web.\n",
        "!pip install googledrivedownloader\n",
        "from google_drive_downloader import GoogleDriveDownloader as gdd\n",
        "file_id = \"1miaCgQTpeIYucy4KFMwpT8as6BVkSoxR\"\n",
        "gdd.download_file_from_google_drive(file_id=file_id,\n",
        "                                dest_path=zip_path,\n",
        "                                unzip=True)"
      ],
      "execution_count": null,
      "outputs": []
    },
    {
      "cell_type": "markdown",
      "metadata": {
        "id": "3jVQs08CPqR_"
      },
      "source": [
        "## Load data into Pandas"
      ]
    },
    {
      "cell_type": "code",
      "metadata": {
        "id": "ucWl_KzgMYDk"
      },
      "source": [
        "# Column names.\n",
        "names = [\n",
        "         \"id number\",\n",
        "         \"diagnosis\",\n",
        "\n",
        "         \"mean radius\",\n",
        "         \"mean texture\",\n",
        "         \"mean perimeter\",\n",
        "         \"mean area\",\n",
        "         \"mean smoothness\",\n",
        "         \"mean compactness\",\n",
        "         \"mean concavity\",\n",
        "         \"mean concave points\",\n",
        "         \"mean symmetry\",\n",
        "         \"mean fractal dimension\",\n",
        "\n",
        "         \"worst radius\",\n",
        "         \"worst texture\",\n",
        "         \"worst perimeter\",\n",
        "         \"worst area\",\n",
        "         \"worst smoothness\",\n",
        "         \"worst compactness\",\n",
        "         \"worst concavity\",\n",
        "         \"worst concave points\",\n",
        "         \"worst symmetry\",\n",
        "         \"worst fractal dimension\",\n",
        "\n",
        "         \"sd radius\",\n",
        "         \"sd texture\",\n",
        "         \"sd perimeter\",\n",
        "         \"sd area\",\n",
        "         \"sd smoothness\",\n",
        "         \"sd compactness\",\n",
        "         \"sd concavity\",\n",
        "         \"sd concave points\",\n",
        "         \"sd symmetry\",\n",
        "         \"sd fractal dimension\",\n",
        "         ]"
      ],
      "execution_count": null,
      "outputs": []
    },
    {
      "cell_type": "code",
      "metadata": {
        "id": "_lZRAz4YZXQ3"
      },
      "source": [
        "import pandas as pd\n",
        "pd.set_option('display.max_rows', 500)\n",
        "pd.set_option('display.max_columns', 500)\n",
        "pd.set_option('display.width', 1000)\n",
        "\n",
        "data = pd.read_csv(data_path, names=names, na_values=\"?\")"
      ],
      "execution_count": null,
      "outputs": []
    },
    {
      "cell_type": "code",
      "metadata": {
        "id": "_-DBDu2rd7g4"
      },
      "source": [
        "# Replace values.\n",
        "data[\"diagnosis\"].replace(to_replace=['M', 'B'], value=[1, 0], inplace=True)"
      ],
      "execution_count": null,
      "outputs": []
    },
    {
      "cell_type": "markdown",
      "metadata": {
        "id": "7cR5IMjxW9LT"
      },
      "source": [
        "## Inspect Data"
      ]
    },
    {
      "cell_type": "code",
      "metadata": {
        "id": "jWeYKBHlOols"
      },
      "source": [
        "# Show some rows.\n",
        "data.head(10)"
      ],
      "execution_count": null,
      "outputs": []
    },
    {
      "cell_type": "code",
      "metadata": {
        "id": "vSjw1RpxehwY"
      },
      "source": [
        "# Print description.\n",
        "print(data.describe())"
      ],
      "execution_count": null,
      "outputs": []
    },
    {
      "cell_type": "markdown",
      "metadata": {
        "id": "hGUxD6cbqCBG"
      },
      "source": [
        "## Value Distribution"
      ]
    },
    {
      "cell_type": "code",
      "metadata": {
        "id": "X31vyQ8wqB1e"
      },
      "source": [
        "# Print number of unique values in each column.\n",
        "def print_unique_count(df, verbose=0):\n",
        "    print(\"Data contains: {:3d} instances\".format(len(data)))\n",
        "    for col in df.columns:\n",
        "        value_counts = df[col].value_counts()\n",
        "        values = value_counts.keys().tolist()\n",
        "        counts = value_counts.tolist()\n",
        "        print(\"Unique values in column {:12s}: {:d}\".format(col, len(value_counts)))\n",
        "        if verbose:\n",
        "            for value, count in zip(values, counts):\n",
        "                print(\"\\tOccurences of value {:10s}: {:d}\".format(str(value), count))"
      ],
      "execution_count": null,
      "outputs": []
    },
    {
      "cell_type": "code",
      "metadata": {
        "id": "wIwkZEAdqByb"
      },
      "source": [
        "print_unique_count(data, 1)"
      ],
      "execution_count": null,
      "outputs": []
    },
    {
      "cell_type": "markdown",
      "metadata": {
        "id": "9ssAz20GXak5"
      },
      "source": [
        "## Null Values"
      ]
    },
    {
      "cell_type": "code",
      "metadata": {
        "id": "LelxuGQsKfEG"
      },
      "source": [
        "# Print number of null entries in each column.\n",
        "def print_null_count(df):\n",
        "    print(\"Data contains: {:3d} instances\".format(len(data)))\n",
        "    for col in df.columns:\n",
        "        print(\"Null values in column {:12s}: {:d}\".format(col, df[col].isna().sum()))"
      ],
      "execution_count": null,
      "outputs": []
    },
    {
      "cell_type": "code",
      "metadata": {
        "id": "hoyvPyfTKfBU"
      },
      "source": [
        "print_null_count(data)"
      ],
      "execution_count": null,
      "outputs": []
    },
    {
      "cell_type": "code",
      "metadata": {
        "id": "E631DeO8jyyQ"
      },
      "source": [
        "data.dropna(inplace=True)"
      ],
      "execution_count": null,
      "outputs": []
    },
    {
      "cell_type": "code",
      "metadata": {
        "id": "5_tfYRFsmzjN"
      },
      "source": [
        "data.head(10)"
      ],
      "execution_count": null,
      "outputs": []
    },
    {
      "cell_type": "markdown",
      "metadata": {
        "id": "Dni9Ev0qe1He"
      },
      "source": [
        "## Normalization"
      ]
    },
    {
      "cell_type": "code",
      "metadata": {
        "id": "RcXGnIBWhkMQ"
      },
      "source": [
        "from sklearn.preprocessing import StandardScaler\n",
        "\n",
        "features = names[2::]\n",
        "\n",
        "x = data.loc[:, features].values\n",
        "y = data[\"diagnosis\"].values\n",
        "x = StandardScaler().fit_transform(x)"
      ],
      "execution_count": null,
      "outputs": []
    },
    {
      "cell_type": "code",
      "metadata": {
        "id": "IblHh6JXkqlW"
      },
      "source": [
        "finalData = pd.concat([pd.DataFrame(x, columns=features), pd.DataFrame(y, columns=[\"diagnosis\"])], axis=1)"
      ],
      "execution_count": null,
      "outputs": []
    },
    {
      "cell_type": "markdown",
      "metadata": {
        "id": "VP0FkS7ZX8Jo"
      },
      "source": [
        "# PCA"
      ]
    },
    {
      "cell_type": "markdown",
      "metadata": {
        "id": "Iv1o7unD5QWk"
      },
      "source": [
        "## Scikit-Learn"
      ]
    },
    {
      "cell_type": "code",
      "metadata": {
        "id": "fwlaB8qSXvxc"
      },
      "source": [
        "from sklearn.decomposition import PCA\n",
        "\n",
        "pca = PCA(n_components=2)\n",
        "components = pca.fit_transform(x)\n",
        "components = pd.DataFrame(data=components, columns=['principal component 1', 'principal component 2'])"
      ],
      "execution_count": null,
      "outputs": []
    },
    {
      "cell_type": "code",
      "metadata": {
        "id": "LMWFzDw0ot8R"
      },
      "source": [
        "print(pca.explained_variance_ratio_)"
      ],
      "execution_count": null,
      "outputs": []
    },
    {
      "cell_type": "code",
      "metadata": {
        "id": "7X1VtjFGfRrP"
      },
      "source": [
        "finalPCA = pd.concat([components, pd.DataFrame(y, columns=[\"diagnosis\"])], axis=1)"
      ],
      "execution_count": null,
      "outputs": []
    },
    {
      "cell_type": "markdown",
      "metadata": {
        "id": "EMHKQwfB5QoO"
      },
      "source": [
        "## Own PCA Algorithm"
      ]
    },
    {
      "cell_type": "code",
      "metadata": {
        "id": "2eUE7b6b02cz"
      },
      "source": [
        "# Breast cancer data.\n",
        "x = data.to_numpy()"
      ],
      "execution_count": null,
      "outputs": []
    },
    {
      "cell_type": "code",
      "metadata": {
        "id": "5gRGGMvc1Ccr"
      },
      "source": [
        "# Toy data.\n",
        "mu = np.array([5.0, 10.0]) # The desired mean values of the sample.\n",
        "r = np.array([ # The desired covariance matrix.\n",
        "        [  3.40, -2.75],\n",
        "        [ -2.00,  1.50]])\n",
        "x = np.random.multivariate_normal(mu, r, size=50) # Generate the random samples.\n",
        "print(x)"
      ],
      "execution_count": null,
      "outputs": []
    },
    {
      "cell_type": "code",
      "metadata": {
        "id": "f7uRlqGAX9Sq"
      },
      "source": [
        "# Plot data.\n",
        "plt.scatter(x[:, 0], x[:, 1])\n",
        "plt.show()"
      ],
      "execution_count": null,
      "outputs": []
    },
    {
      "cell_type": "code",
      "metadata": {
        "id": "zRqL05a-gx-K"
      },
      "source": [
        "# Calculate mean vectors.\n",
        "mean_vec = np.mean(x, axis=0)\n",
        "print(mean_vec)\n",
        "\n",
        "# Subtract mean from data (not necessary).\n",
        "x = x - mean_vec\n",
        "print(x)"
      ],
      "execution_count": null,
      "outputs": []
    },
    {
      "cell_type": "code",
      "metadata": {
        "id": "P7iliZbJ4RX4"
      },
      "source": [
        "# Plot data.\n",
        "plt.scatter(x[:, 0], x[:, 1])\n",
        "plt.show()"
      ],
      "execution_count": null,
      "outputs": []
    },
    {
      "cell_type": "code",
      "metadata": {
        "id": "jvdKdysFgx7A"
      },
      "source": [
        "# Calcualte co-variance matrix.\n",
        "cov_mat = np.cov([x[:,0], x[:,1]])\n",
        "print(cov_mat)\n",
        "\n",
        "# Or alternatively use scatter matrix (in this case, the only difference is a scaling factor).\n",
        "# ...\n",
        "\n",
        "# Even using the correlation matrix is possible.\n",
        "# ..."
      ],
      "execution_count": null,
      "outputs": []
    },
    {
      "cell_type": "code",
      "metadata": {
        "id": "vqBwpOewgx0Q"
      },
      "source": [
        "# Calculate eigenvalues and eigenvectors.\n",
        "eig_val, eig_vec = np.linalg.eig(cov_mat)\n",
        "for i, (val, vec) in enumerate(zip(eig_val, eig_vec.T), 1):\n",
        "    print(f\"{i}. Eigenvalue:  {val}\")\n",
        "    print(f\"{i}. Eigenvector: {vec}\")\n",
        "    print(50 * '-')"
      ],
      "execution_count": null,
      "outputs": []
    },
    {
      "cell_type": "code",
      "metadata": {
        "id": "b4c_Ew__TM5e"
      },
      "source": [
        "# Check if eigenvalue solutions give zero determinant solution to equation.\n",
        "for i, val in enumerate(eig_val):\n",
        "    print(f\"{i+1}. Eigenvalue {val:.8f} gives determinant of {np.linalg.det(cov_mat - np.eye(2) * val):.8f}\")"
      ],
      "execution_count": null,
      "outputs": []
    },
    {
      "cell_type": "code",
      "metadata": {
        "id": "LRAdq5dtIMcm"
      },
      "source": [
        "# Dot product is 0 if vectors are orthogonal.\n",
        "np.dot(*eig_vec.T)"
      ],
      "execution_count": null,
      "outputs": []
    },
    {
      "cell_type": "code",
      "metadata": {
        "id": "SNgFxNZP5wu4"
      },
      "source": [
        "# Plot principal component axis.\n",
        "plt.scatter(x[:, 0], x[:, 1])\n",
        "origin = np.array([0, 0]) # Origin point.\n",
        "plt.arrow(*origin, *eig_vec.T[0], color='r', width=.1)\n",
        "plt.arrow(*origin, *eig_vec.T[1], color='b', width=.1)\n",
        "plt.xlim(-5, 5)\n",
        "plt.ylim(-5, 5)\n",
        "plt.show()"
      ],
      "execution_count": null,
      "outputs": []
    },
    {
      "cell_type": "code",
      "metadata": {
        "id": "d0ehOAMDadfM"
      },
      "source": [
        "# Transform data using principal components.\n",
        "transformed = x[:,0:2] @ eig_vec\n",
        "plt.scatter(transformed[:,0], transformed[:,1])\n",
        "plt.show()"
      ],
      "execution_count": null,
      "outputs": []
    },
    {
      "cell_type": "code",
      "metadata": {
        "id": "9es_Z3EpxIRO"
      },
      "source": [
        "# Check if co-variance matrix of transformed data is a diagonal matrix.\n",
        "transformed_cov_mat = np.cov([transformed[:,0], transformed[:,1]])\n",
        "print(transformed_cov_mat)"
      ],
      "execution_count": null,
      "outputs": []
    },
    {
      "cell_type": "code",
      "metadata": {
        "id": "bP7LtWnOaddl"
      },
      "source": [
        "# Sorting the eigenvalue and eigenvector pairs.\n",
        "pairs = [(eig_val[i], eig_vec.T[i]) for i in range(len(eig_val))]\n",
        "pairs.sort(key=lambda x: x[0], reverse=True)\n",
        "print(pairs)"
      ],
      "execution_count": null,
      "outputs": []
    },
    {
      "cell_type": "code",
      "metadata": {
        "id": "46QCXyT1ada6"
      },
      "source": [
        "# Using the k best principal components.\n",
        "K = 1\n",
        "eig_vec_k = np.array([pairs[k][1] for k in range(K)]).reshape(2, K)\n",
        "transformed = x[:,0:2] @ eig_vec_k\n",
        "plt.scatter(transformed[:,0], np.zeros(len(x)))\n",
        "plt.show()"
      ],
      "execution_count": null,
      "outputs": []
    },
    {
      "cell_type": "code",
      "metadata": {
        "id": "xtMCScU5djC1"
      },
      "source": [
        "# Explained variance of principal components.\n",
        "eig_val_sum = np.sum(eig_val)\n",
        "cumsum = [val/eig_val_sum for val, _ in pairs[::-1]]\n",
        "print(cumsum)\n",
        "\n",
        "# Plot cumulative explained variance.\n",
        "plt.xlabel(\"Number of Principal Components\")\n",
        "plt.ylabel(\"Explained Cumulative Variance\")\n",
        "plt.plot(cumsum)\n",
        "plt.show()"
      ],
      "execution_count": null,
      "outputs": []
    },
    {
      "cell_type": "code",
      "metadata": {
        "id": "B3ria31DoPgr"
      },
      "source": [
        "# Composition of principle components.\n",
        "# ..."
      ],
      "execution_count": null,
      "outputs": []
    },
    {
      "cell_type": "code",
      "metadata": {
        "id": "N0zUuYWQvKo4"
      },
      "source": [
        "# Applying the linear transformation of the co-variance matrix to the data and inspect the transformed data and eigenvectors\n",
        "cov_mat_transformed = x @ cov_mat\n",
        "plt.scatter(cov_mat_transformed[:,0], cov_mat_transformed[:,1])\n",
        "plt.show()"
      ],
      "execution_count": null,
      "outputs": []
    },
    {
      "cell_type": "code",
      "metadata": {
        "id": "hpjEeOxqBkOE"
      },
      "source": [
        "# \n",
        "transformed_cov_mat = np.cov([cov_mat_transformed[:,0], cov_mat_transformed[:,1]])\n",
        "print(transformed_cov_mat)"
      ],
      "execution_count": null,
      "outputs": []
    },
    {
      "cell_type": "markdown",
      "metadata": {
        "id": "Y2JCfiZxt5Uh"
      },
      "source": [
        "# Hypothesen"
      ]
    },
    {
      "cell_type": "markdown",
      "metadata": {
        "id": "iOWc97ghk7We"
      },
      "source": [
        "## Erste Hypothese"
      ]
    },
    {
      "cell_type": "markdown",
      "metadata": {
        "id": "TfcYqneuuRb3"
      },
      "source": [
        "1.) Die Verteilungen für die 1. Hauptkomponente (principal component) der BreastCancer Daten unterscheiden sich signifikant für die *malignen* (M, bösartigen) und die benignen (B, gutartigen) Fälle."
      ]
    },
    {
      "cell_type": "code",
      "metadata": {
        "id": "UZrGj2w1goNl"
      },
      "source": [
        "# Distribution.\n",
        "benign = finalPCA[finalPCA[\"diagnosis\"] == 0]\n",
        "malignant = finalPCA[finalPCA[\"diagnosis\"] == 1]\n",
        "print(benign.describe())\n",
        "print(200 * '-')\n",
        "print(malignant.describe())"
      ],
      "execution_count": null,
      "outputs": []
    },
    {
      "cell_type": "code",
      "metadata": {
        "id": "ne8ssFrQ236x"
      },
      "source": [
        "# 2 PCA plot.\n",
        "fig = plt.figure(figsize=(8, 8))\n",
        "ax = fig.add_subplot(1, 1, 1)\n",
        "ax.set_xlabel(\"1. Hauptkomponente\", fontsize=15)\n",
        "ax.set_ylabel(\"2. Hauptkomponente\", fontsize=15)\n",
        "targets = [0, 1]\n",
        "colors = ['b', 'r']\n",
        "for target, color in zip(targets, colors):\n",
        "    indicesToKeep = finalPCA[\"diagnosis\"] == target\n",
        "    ax.scatter(finalPCA.loc[indicesToKeep, \"principal component 1\"],\n",
        "               finalPCA.loc[indicesToKeep, \"principal component 2\"],\n",
        "               c=color,\n",
        "               s=50)\n",
        "ax.legend(labels=[\"gutartig\", \"bösartig\"])\n",
        "ax.grid(linewidth=1)\n",
        "plt.show()"
      ],
      "execution_count": null,
      "outputs": []
    },
    {
      "cell_type": "code",
      "metadata": {
        "id": "r3kaJvvmff9y"
      },
      "source": [
        "# 1 PCA plot.\n",
        "fig = plt.figure(figsize=(8, 8))\n",
        "ax = fig.add_subplot(1, 1, 1)\n",
        "ax.set_xlabel(\"1. Hauptkomponente\", fontsize=15)\n",
        "targets = [0, 1]\n",
        "colors = ['b', 'r']\n",
        "for target, color in zip(targets, colors):\n",
        "    indicesToKeep = finalPCA[\"diagnosis\"] == target\n",
        "    ax.scatter(finalPCA.loc[indicesToKeep, \"principal component 1\"],\n",
        "               np.zeros(len(finalPCA.loc[indicesToKeep, \"principal component 1\"])),\n",
        "               c=color,\n",
        "               s=50)\n",
        "ax.legend(labels=[\"gutartig\", \"bösartig\"])\n",
        "ax.grid(linewidth=1)\n",
        "plt.show()"
      ],
      "execution_count": null,
      "outputs": []
    },
    {
      "cell_type": "code",
      "metadata": {
        "id": "xRPiA2m4heT2"
      },
      "source": [
        "# M / B separated 2 PCA plot.\n",
        "for target, color in zip(targets, colors):\n",
        "    fig = plt.figure(figsize=(8, 8))\n",
        "    ax = fig.add_subplot(1, 1, 1)\n",
        "    ax.set_xlabel(\"Principal Component 1\", fontsize=15)\n",
        "    ax.set_ylabel(\"Principal Component 2\", fontsize=15)\n",
        "    ax.set_title(\"2 component PCA\", fontsize=20)\n",
        "    targets = [0, 1]\n",
        "    colors = ['b', 'r']\n",
        "    indicesToKeep = finalPCA[\"diagnosis\"] == target\n",
        "    ax.scatter(finalPCA.loc[indicesToKeep, \"principal component 1\"],\n",
        "               finalPCA.loc[indicesToKeep, \"principal component 2\"],\n",
        "               c=color,\n",
        "               s=50)\n",
        "    ax.legend(labels=[\"benign\", \"malignant\"])\n",
        "    ax.grid()\n",
        "    plt.show()"
      ],
      "execution_count": null,
      "outputs": []
    },
    {
      "cell_type": "code",
      "metadata": {
        "id": "hmSJ6bDxheQ6"
      },
      "source": [
        "# M / B separated 1 PCA plot.\n",
        "# 1 PCA plot.\n",
        "for target, color in zip(targets, colors):\n",
        "    fig = plt.figure(figsize=(8, 8))\n",
        "    ax = fig.add_subplot(1, 1, 1)\n",
        "    ax.set_xlabel(\"Principal Component 1\", fontsize=15)\n",
        "    ax.set_title(\"1 component PCA\", fontsize=20)\n",
        "    targets = [0, 1]\n",
        "    colors = ['b', 'r']\n",
        "    indicesToKeep = finalPCA[\"diagnosis\"] == target\n",
        "    ax.scatter(finalPCA.loc[indicesToKeep, \"principal component 1\"],\n",
        "               np.zeros(len(finalPCA.loc[indicesToKeep, \"principal component 1\"])),\n",
        "               c=color,\n",
        "               s=50)\n",
        "    ax.legend(labels=[\"benign\", \"malignant\"])\n",
        "    ax.grid()\n",
        "    plt.show()"
      ],
      "execution_count": null,
      "outputs": []
    },
    {
      "cell_type": "markdown",
      "metadata": {
        "id": "1Z5aL7m7k46j"
      },
      "source": [
        "## Zweite Hypothese"
      ]
    },
    {
      "cell_type": "markdown",
      "metadata": {
        "id": "SbkH6dQGulwG"
      },
      "source": [
        "2.) Die Verteilungen für die 1. Hauptkomponente (principal component) der BreastCancer Daten unterscheiden sich signifikant für die geradzahligen Fälle und die ungeradzahligen Fälle."
      ]
    },
    {
      "cell_type": "code",
      "metadata": {
        "id": "0XJM3o8_vFu8"
      },
      "source": [
        "# Distribution.\n",
        "fullPCAData = pd.concat([data[\"id number\"], finalPCA], axis=1)\n",
        "even = fullPCAData[fullPCAData[\"id number\"] % 2 == 0]\n",
        "odd = fullPCAData[fullPCAData[\"id number\"] % 2 == 1]\n",
        "print(even.describe())\n",
        "print(200 * '-')\n",
        "print(odd.describe())"
      ],
      "execution_count": null,
      "outputs": []
    },
    {
      "cell_type": "code",
      "metadata": {
        "id": "i-zxqZBYoXFU"
      },
      "source": [
        "# 2 PCA plot for even sample code.\r\n",
        "fig = plt.figure(figsize=(8, 8))\r\n",
        "ax = fig.add_subplot(1, 1, 1)\r\n",
        "ax.set_xlabel(\"1. Hauptkomponente\", fontsize=15)\r\n",
        "ax.set_ylabel(\"2. Hauptkomponente\", fontsize=15)\r\n",
        "targets = [0, 1]\r\n",
        "colors = ['b', 'r']\r\n",
        "for target, color in zip(targets, colors):\r\n",
        "    indicesToKeep = fullPCAData[\"id number\"] % 2 == target\r\n",
        "    ax.scatter(fullPCAData.loc[indicesToKeep, \"principal component 1\"],\r\n",
        "               fullPCAData.loc[indicesToKeep, \"principal component 2\"],\r\n",
        "               c=color,\r\n",
        "               s=50)\r\n",
        "ax.legend(labels=[\"gerade\", \"ungerade\"])\r\n",
        "ax.grid(linewidth=1)\r\n",
        "plt.show()"
      ],
      "execution_count": null,
      "outputs": []
    },
    {
      "cell_type": "code",
      "metadata": {
        "id": "YpY8psA8jnTC"
      },
      "source": [
        "# 2 PCA plot for even sample code.\n",
        "fig = plt.figure(figsize=(8, 8))\n",
        "ax = fig.add_subplot(1, 1, 1)\n",
        "ax.set_xlabel(\"1. Hauptkomponente\", fontsize=15)\n",
        "ax.set_ylabel(\"2. Hauptkomponente\", fontsize=15)\n",
        "targets = [0, 1]\n",
        "colors = ['b', 'r']\n",
        "for target, color in zip(targets, colors):\n",
        "    indicesToKeep = even[\"diagnosis\"] == target\n",
        "    ax.scatter(even.loc[indicesToKeep, \"principal component 1\"],\n",
        "               even.loc[indicesToKeep, \"principal component 2\"],\n",
        "               c=color,\n",
        "               s=50)\n",
        "ax.legend(labels=[\"gutartig\", \"bösartig\"])\n",
        "ax.grid(linewidth=1)\n",
        "plt.show()"
      ],
      "execution_count": null,
      "outputs": []
    },
    {
      "cell_type": "code",
      "metadata": {
        "id": "DlmK0cM-lVYG"
      },
      "source": [
        "# 2 PCA plot for odd sample code.\n",
        "fig = plt.figure(figsize=(8, 8))\n",
        "ax = fig.add_subplot(1, 1, 1)\n",
        "ax.set_xlabel(\"1. Hauptkomponente\", fontsize=15)\n",
        "ax.set_ylabel(\"2. Hauptkomponente\", fontsize=15)\n",
        "targets = [0, 1]\n",
        "colors = ['b', 'r']\n",
        "for target, color in zip(targets, colors):\n",
        "    indicesToKeep = odd[\"diagnosis\"] == target\n",
        "    ax.scatter(odd.loc[indicesToKeep, \"principal component 1\"],\n",
        "               odd.loc[indicesToKeep, \"principal component 2\"],\n",
        "               c=color,\n",
        "               s=50)\n",
        "ax.legend(labels=[\"gutartig\", \"bösartig\"])\n",
        "ax.grid(linewidth=1)\n",
        "plt.show()"
      ],
      "execution_count": null,
      "outputs": []
    },
    {
      "cell_type": "markdown",
      "metadata": {
        "id": "JzAk37yLvFUi"
      },
      "source": [
        "# Ergänzende Frage"
      ]
    },
    {
      "cell_type": "markdown",
      "metadata": {
        "id": "FLoO4YMGk9rd"
      },
      "source": [
        "## Erste Frage"
      ]
    },
    {
      "cell_type": "markdown",
      "metadata": {
        "id": "6ckz6YtqvK8j"
      },
      "source": [
        "1.) Wie gut wäre eine Klassifikation  M / B  auf Basis allein der 1. Haupt-komponente?"
      ]
    },
    {
      "cell_type": "code",
      "metadata": {
        "id": "G438RryVhAyX"
      },
      "source": [
        "# Classification model.\n",
        "from keras.models import Sequential\n",
        "from keras.layers import Dense, Input\n",
        "def eval(x, y):\n",
        "    model = Sequential()\n",
        "    model.add(Input(shape=(1,)))\n",
        "    #model.add(Dense(50, activation='relu'))\n",
        "    model.add(Dense(1, activation='sigmoid'))\n",
        "    model.compile(optimizer='adam',\n",
        "                  loss='binary_crossentropy',\n",
        "                  metrics=['accuracy'])\n",
        "    model.summary()\n",
        "    model.fit(x, y, batch_size=16, epochs=100)"
      ],
      "execution_count": null,
      "outputs": []
    },
    {
      "cell_type": "code",
      "metadata": {
        "id": "FHxm-vhcvPr8"
      },
      "source": [
        "# Classification on first principal component.\n",
        "x = finalPCA[\"principal component 1\"].to_numpy()\n",
        "eval(x, y)"
      ],
      "execution_count": null,
      "outputs": []
    },
    {
      "cell_type": "markdown",
      "metadata": {
        "id": "z3UsSMWqk_0Y"
      },
      "source": [
        "## Zweite Frage"
      ]
    },
    {
      "cell_type": "markdown",
      "metadata": {
        "id": "G79qsxAIvOqh"
      },
      "source": [
        "2.) Wie vergleicht sich dies mit einer Klassifikation allein auf Basis der 1. oder 2. Input-Variablen?"
      ]
    },
    {
      "cell_type": "code",
      "metadata": {
        "id": "m9wkqYRigw6L"
      },
      "source": [
        "# Classification on first column.\n",
        "x = finalData[features[0]]\n",
        "eval(x, y)"
      ],
      "execution_count": null,
      "outputs": []
    },
    {
      "cell_type": "code",
      "metadata": {
        "id": "_48LmWG8gxPV"
      },
      "source": [
        "# Classification on second column.\n",
        "x = finalData[features[1]]\n",
        "eval(x, y)"
      ],
      "execution_count": null,
      "outputs": []
    },
    {
      "cell_type": "code",
      "metadata": {
        "id": "rxNkctDV232O"
      },
      "source": [
        "# 2 Feature plot.\n",
        "feature1 = features[0]\n",
        "feature2 = features[1]\n",
        "\n",
        "fig = plt.figure(figsize=(8, 8))\n",
        "ax = fig.add_subplot(1, 1, 1)\n",
        "ax.set_xlabel(feature1, fontsize=15)\n",
        "ax.set_ylabel(feature2, fontsize=15)\n",
        "ax.set_title(\"2 feature plot\", fontsize=20)\n",
        "targets = [0, 1]\n",
        "colors = ['b', 'r']\n",
        "for target, color in zip(targets, colors):\n",
        "    indicesToKeep = finalData[\"diagnosis\"] == target\n",
        "    ax.scatter(finalData.loc[indicesToKeep, feature1],\n",
        "               finalData.loc[indicesToKeep, feature2],\n",
        "               c=color,\n",
        "               s=50)\n",
        "ax.legend(labels=[\"benign\", \"malignant\"])\n",
        "ax.grid()\n",
        "plt.show()"
      ],
      "execution_count": null,
      "outputs": []
    },
    {
      "cell_type": "code",
      "metadata": {
        "id": "D83n0aBY23zs"
      },
      "source": [
        "# 1 Feature plot.\n",
        "feature1 = features[0]\n",
        "\n",
        "fig = plt.figure(figsize=(8, 8))\n",
        "ax = fig.add_subplot(1, 1, 1)\n",
        "ax.set_xlabel(feature1, fontsize=15)\n",
        "ax.set_ylabel(feature2, fontsize=15)\n",
        "ax.set_title(\"1 feature plot\", fontsize=20)\n",
        "targets = [0, 1]\n",
        "colors = ['b', 'r']\n",
        "for target, color in zip(targets, colors):\n",
        "    indicesToKeep = finalData[\"diagnosis\"] == target\n",
        "    ax.scatter(finalData.loc[indicesToKeep, feature1],\n",
        "               np.zeros(len(finalData.loc[indicesToKeep, feature1])),\n",
        "               c=color,\n",
        "               s=50)\n",
        "ax.legend(labels=[\"benign\", \"malignant\"])\n",
        "ax.grid()\n",
        "plt.show()"
      ],
      "execution_count": null,
      "outputs": []
    },
    {
      "cell_type": "code",
      "metadata": {
        "id": "9xFZZwrH23wR"
      },
      "source": [
        "# 1 Feature plot.\n",
        "feature1 = features[1]\n",
        "\n",
        "fig = plt.figure(figsize=(8, 8))\n",
        "ax = fig.add_subplot(1, 1, 1)\n",
        "ax.set_xlabel(feature1, fontsize=15)\n",
        "ax.set_ylabel(feature2, fontsize=15)\n",
        "ax.set_title(\"1 feature plot\", fontsize=20)\n",
        "targets = [0, 1]\n",
        "colors = ['b', 'r']\n",
        "for target, color in zip(targets, colors):\n",
        "    indicesToKeep = finalData[\"diagnosis\"] == target\n",
        "    ax.scatter(finalData.loc[indicesToKeep, feature1],\n",
        "               np.zeros(len(finalData.loc[indicesToKeep, feature1])),\n",
        "               c=color,\n",
        "               s=50)\n",
        "ax.legend(labels=[\"benign\", \"malignant\"])\n",
        "ax.grid()\n",
        "plt.show()"
      ],
      "execution_count": null,
      "outputs": []
    },
    {
      "cell_type": "code",
      "metadata": {
        "id": "yLArG-gup8Zf"
      },
      "source": [
        ""
      ],
      "execution_count": null,
      "outputs": []
    },
    {
      "cell_type": "markdown",
      "metadata": {
        "id": "XVd9DgT5JM2Q"
      },
      "source": [
        "# Explained Variance"
      ]
    },
    {
      "cell_type": "code",
      "metadata": {
        "id": "D3_kexPr8-ty"
      },
      "source": [
        "x = data.loc[:, features].values\r\n",
        "covmat = np.cov(x.T)\r\n",
        "diag = np.diag(covmat)\r\n",
        "\r\n",
        "for d in diag:\r\n",
        "    print(f\"{d/diag.sum():5.5f}\")"
      ],
      "execution_count": null,
      "outputs": []
    },
    {
      "cell_type": "code",
      "metadata": {
        "id": "QUgB1bvFJNed"
      },
      "source": [
        "pca = PCA().fit(x)\r\n",
        "plt.plot(np.arange(0, 1+len(pca.explained_variance_ratio_)), np.cumsum(pca.explained_variance_ratio_))\r\n",
        "plt.xlabel('Anzahl der Hauptkomponenten')\r\n",
        "plt.ylabel('Kumulative Varianz')\r\n",
        "ax.grid(linewidth=1)\r\n",
        "plt.show()"
      ],
      "execution_count": null,
      "outputs": []
    },
    {
      "cell_type": "code",
      "metadata": {
        "id": "W3slf67TJNb7"
      },
      "source": [
        "for v in pca.explained_variance_ratio_:\r\n",
        "    print(f\"{v:5.5f}\")"
      ],
      "execution_count": null,
      "outputs": []
    },
    {
      "cell_type": "code",
      "metadata": {
        "id": "AHDp_iprJNGa"
      },
      "source": [
        ""
      ],
      "execution_count": null,
      "outputs": []
    }
  ]
}