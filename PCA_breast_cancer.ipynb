{
  "nbformat": 4,
  "nbformat_minor": 0,
  "metadata": {
    "colab": {
      "name": "PCA_breast_cancer.ipynb",
      "private_outputs": true,
      "provenance": [],
      "collapsed_sections": [],
      "authorship_tag": "ABX9TyOFVpfu8WtA3KTeAHUyiJYq",
      "include_colab_link": true
    },
    "kernelspec": {
      "name": "python3",
      "display_name": "Python 3"
    }
  },
  "cells": [
    {
      "cell_type": "markdown",
      "metadata": {
        "id": "view-in-github",
        "colab_type": "text"
      },
      "source": [
        "<a href=\"https://colab.research.google.com/github/HenningBuhl/SGM/blob/main/PCA_breast_cancer.ipynb\" target=\"_parent\"><img src=\"https://colab.research.google.com/assets/colab-badge.svg\" alt=\"Open In Colab\"/></a>"
      ]
    },
    {
      "cell_type": "markdown",
      "metadata": {
        "id": "UhEuYr6l23lM"
      },
      "source": [
        "# PCA Breast Cancer"
      ]
    },
    {
      "cell_type": "code",
      "metadata": {
        "id": "h3HyRDjBDWbH"
      },
      "source": [
        ""
      ],
      "execution_count": null,
      "outputs": []
    },
    {
      "cell_type": "markdown",
      "metadata": {
        "id": "NGU221uNKdmX"
      },
      "source": [
        "# TODO"
      ]
    },
    {
      "cell_type": "code",
      "metadata": {
        "id": "KD8HslD9QiVG"
      },
      "source": [
        "\"\"\"\n",
        "\n",
        "TODO:\n",
        "\n",
        "Eigene PCA schreiben\n",
        "Fragen aus Themenauswahl\n",
        "Paper schreiben\n",
        "\n",
        "\"\"\""
      ],
      "execution_count": null,
      "outputs": []
    },
    {
      "cell_type": "markdown",
      "metadata": {
        "id": "uLZ9ayvKoVsg"
      },
      "source": [
        "# Settings"
      ]
    },
    {
      "cell_type": "markdown",
      "metadata": {
        "id": "oDD6XzsUoVnm"
      },
      "source": [
        "## Seed Settings"
      ]
    },
    {
      "cell_type": "code",
      "metadata": {
        "id": "SJqGLE9aoVfA"
      },
      "source": [
        "import numpy as np\n",
        "np.random.seed(0)"
      ],
      "execution_count": null,
      "outputs": []
    },
    {
      "cell_type": "markdown",
      "metadata": {
        "id": "uC26nG0PSRKp"
      },
      "source": [
        "## Plot Settings"
      ]
    },
    {
      "cell_type": "code",
      "metadata": {
        "id": "xaO4w2PVSRGg"
      },
      "source": [
        "plot_width = 12\n",
        "plot_height = 8\n",
        "font_scale = 1.5\n",
        "title_size = 28\n",
        "label_size = 22\n",
        "dpi = 80"
      ],
      "execution_count": null,
      "outputs": []
    },
    {
      "cell_type": "markdown",
      "metadata": {
        "id": "FCH3bq5nsPV0"
      },
      "source": [
        "# Data"
      ]
    },
    {
      "cell_type": "markdown",
      "metadata": {
        "id": "c4MmYdibQpdL"
      },
      "source": [
        "## Paths"
      ]
    },
    {
      "cell_type": "code",
      "metadata": {
        "id": "bg32iXa8QpsX"
      },
      "source": [
        "data_set_name = \"breast cancer\"\n",
        "base_dir = f\"./data/{data_set_name}/\"\n",
        "zip_path = base_dir + f\"{data_set_name}.zip\"\n",
        "data_path = base_dir + \"breast-cancer-wisconsin.data\""
      ],
      "execution_count": null,
      "outputs": []
    },
    {
      "cell_type": "markdown",
      "metadata": {
        "id": "ufyQMwAHMn-C"
      },
      "source": [
        "## Clear Directories"
      ]
    },
    {
      "cell_type": "code",
      "metadata": {
        "id": "d2RxICfHMoV3"
      },
      "source": [
        "import shutil\n",
        "#shutil.rmtree(\"/content/results\")"
      ],
      "execution_count": null,
      "outputs": []
    },
    {
      "cell_type": "markdown",
      "metadata": {
        "id": "KTkNKYT3O_s5"
      },
      "source": [
        "## Download"
      ]
    },
    {
      "cell_type": "code",
      "metadata": {
        "id": "mhMWoGqF-UQ5"
      },
      "source": [
        "# Load data from web.\n",
        "!pip install googledrivedownloader\n",
        "from google_drive_downloader import GoogleDriveDownloader as gdd\n",
        "file_id = \"1miaCgQTpeIYucy4KFMwpT8as6BVkSoxR\"\n",
        "gdd.download_file_from_google_drive(file_id=file_id,\n",
        "                                dest_path=zip_path,\n",
        "                                unzip=True)"
      ],
      "execution_count": null,
      "outputs": []
    },
    {
      "cell_type": "markdown",
      "metadata": {
        "id": "3jVQs08CPqR_"
      },
      "source": [
        "## Load data into Pandas"
      ]
    },
    {
      "cell_type": "code",
      "metadata": {
        "id": "ucWl_KzgMYDk"
      },
      "source": [
        "# Column names.\n",
        "names = [\n",
        "         \"Sample code number\",\n",
        "         \"Clump Thickness\",\n",
        "         \"Uniformity of Cell Size\",\n",
        "         \"Uniformity of Cell Shape\",\n",
        "         \"Marginal Adhesion\",\n",
        "         \"Single Epithelial Cell Size\",\n",
        "         \"Bare Nuclei\",\n",
        "         \"Bland Chromatin\",\n",
        "         \"Normal Nucleoli\",\n",
        "         \"Mitoses\",\n",
        "         \"Class\",\n",
        "         ]\n",
        "\n",
        "# Data types of columns.\n",
        "dtype = { # All other columns are subject to normalization/standardization and are treated as np.float64.\n",
        "            \"class\" : np.int,\n",
        "        }"
      ],
      "execution_count": null,
      "outputs": []
    },
    {
      "cell_type": "code",
      "metadata": {
        "id": "_lZRAz4YZXQ3"
      },
      "source": [
        "import pandas as pd\n",
        "pd.set_option('display.max_rows', 500)\n",
        "pd.set_option('display.max_columns', 500)\n",
        "pd.set_option('display.width', 1000)\n",
        "\n",
        "data = pd.read_csv(data_path, names=names, dtype=dtype, na_values=\"?\")"
      ],
      "execution_count": null,
      "outputs": []
    },
    {
      "cell_type": "code",
      "metadata": {
        "id": "_-DBDu2rd7g4"
      },
      "source": [
        "# Replace values 2 and 4 by values 0 and 1 respectively (benign = 0, malignant = 1).\n",
        "data[\"Class\"] = data[\"Class\"].replace(to_replace=[2, 4], value=[0, 1])"
      ],
      "execution_count": null,
      "outputs": []
    },
    {
      "cell_type": "markdown",
      "metadata": {
        "id": "7cR5IMjxW9LT"
      },
      "source": [
        "## Inspect Data"
      ]
    },
    {
      "cell_type": "code",
      "metadata": {
        "id": "jWeYKBHlOols"
      },
      "source": [
        "# Show some rows.\n",
        "data.head(10)"
      ],
      "execution_count": null,
      "outputs": []
    },
    {
      "cell_type": "code",
      "metadata": {
        "id": "vSjw1RpxehwY"
      },
      "source": [
        "# Print description.\n",
        "print(data.describe())"
      ],
      "execution_count": null,
      "outputs": []
    },
    {
      "cell_type": "markdown",
      "metadata": {
        "id": "hGUxD6cbqCBG"
      },
      "source": [
        "## Value Distribution"
      ]
    },
    {
      "cell_type": "code",
      "metadata": {
        "id": "X31vyQ8wqB1e"
      },
      "source": [
        "# Print number of unique values in each column.\n",
        "def print_unique_count(df, verbose=0):\n",
        "    print(\"Data contains: {:3d} instances\".format(len(data)))\n",
        "    for col in df.columns:\n",
        "        value_counts = df[col].value_counts()\n",
        "        values = value_counts.keys().tolist()\n",
        "        counts = value_counts.tolist()\n",
        "        print(\"Unique values in column {:12s}: {:d}\".format(col, len(value_counts)))\n",
        "        if verbose:\n",
        "            for value, count in zip(values, counts):\n",
        "                print(\"\\tOccurences of value {:10s}: {:d}\".format(str(value), count))"
      ],
      "execution_count": null,
      "outputs": []
    },
    {
      "cell_type": "code",
      "metadata": {
        "id": "wIwkZEAdqByb"
      },
      "source": [
        "print_unique_count(data, 1)"
      ],
      "execution_count": null,
      "outputs": []
    },
    {
      "cell_type": "markdown",
      "metadata": {
        "id": "9ssAz20GXak5"
      },
      "source": [
        "## Null Values"
      ]
    },
    {
      "cell_type": "code",
      "metadata": {
        "id": "LelxuGQsKfEG"
      },
      "source": [
        "# Print number of null entries in each column.\n",
        "def print_null_count(df):\n",
        "    print(\"Data contains: {:3d} instances\".format(len(data)))\n",
        "    for col in df.columns:\n",
        "        print(\"Null values in column {:12s}: {:d}\".format(col, df[col].isna().sum()))"
      ],
      "execution_count": null,
      "outputs": []
    },
    {
      "cell_type": "code",
      "metadata": {
        "id": "hoyvPyfTKfBU"
      },
      "source": [
        "print_null_count(data)"
      ],
      "execution_count": null,
      "outputs": []
    },
    {
      "cell_type": "code",
      "metadata": {
        "id": "E631DeO8jyyQ"
      },
      "source": [
        "data.dropna(inplace=True)"
      ],
      "execution_count": null,
      "outputs": []
    },
    {
      "cell_type": "code",
      "metadata": {
        "id": "5_tfYRFsmzjN"
      },
      "source": [
        "print(data)"
      ],
      "execution_count": null,
      "outputs": []
    },
    {
      "cell_type": "markdown",
      "metadata": {
        "id": "Dni9Ev0qe1He"
      },
      "source": [
        "## Normalization"
      ]
    },
    {
      "cell_type": "code",
      "metadata": {
        "id": "RcXGnIBWhkMQ"
      },
      "source": [
        "from sklearn.preprocessing import StandardScaler\n",
        "\n",
        "features = [\n",
        "            \"Clump Thickness\",\n",
        "            \"Uniformity of Cell Size\",\n",
        "            \"Uniformity of Cell Shape\",\n",
        "            \"Marginal Adhesion\",\n",
        "            \"Single Epithelial Cell Size\",\n",
        "            \"Bare Nuclei\",\n",
        "            \"Bland Chromatin\",\n",
        "            \"Normal Nucleoli\",\n",
        "            \"Mitoses\",\n",
        "            ]\n",
        "\n",
        "x = data.loc[:, features].values\n",
        "y = data[\"Class\"].values\n",
        "x = StandardScaler().fit_transform(x)"
      ],
      "execution_count": null,
      "outputs": []
    },
    {
      "cell_type": "code",
      "metadata": {
        "id": "IblHh6JXkqlW"
      },
      "source": [
        "finalData = pd.concat([pd.DataFrame(x, columns=features), pd.DataFrame(y, columns=[\"Class\"])], axis=1)"
      ],
      "execution_count": null,
      "outputs": []
    },
    {
      "cell_type": "markdown",
      "metadata": {
        "id": "VP0FkS7ZX8Jo"
      },
      "source": [
        "# PCA"
      ]
    },
    {
      "cell_type": "code",
      "metadata": {
        "id": "VKMxIEowX14L"
      },
      "source": [
        ""
      ],
      "execution_count": null,
      "outputs": []
    },
    {
      "cell_type": "markdown",
      "metadata": {
        "id": "Iv1o7unD5QWk"
      },
      "source": [
        "## Scikit-Learn"
      ]
    },
    {
      "cell_type": "code",
      "metadata": {
        "id": "fwlaB8qSXvxc"
      },
      "source": [
        "from sklearn.decomposition import PCA\n",
        "\n",
        "pca = PCA(n_components=2)\n",
        "components = pca.fit_transform(x)\n",
        "components = pd.DataFrame(data=components, columns=['principal component 1', 'principal component 2'])"
      ],
      "execution_count": null,
      "outputs": []
    },
    {
      "cell_type": "code",
      "metadata": {
        "id": "LMWFzDw0ot8R"
      },
      "source": [
        "print(pca.explained_variance_ratio_)"
      ],
      "execution_count": null,
      "outputs": []
    },
    {
      "cell_type": "code",
      "metadata": {
        "id": "7X1VtjFGfRrP"
      },
      "source": [
        "finalPCA = pd.concat([components, data[\"Class\"]], axis=1)"
      ],
      "execution_count": null,
      "outputs": []
    },
    {
      "cell_type": "markdown",
      "metadata": {
        "id": "EMHKQwfB5QoO"
      },
      "source": [
        "## Own Solution"
      ]
    },
    {
      "cell_type": "code",
      "metadata": {
        "id": "f7uRlqGAX9Sq"
      },
      "source": [
        ""
      ],
      "execution_count": null,
      "outputs": []
    },
    {
      "cell_type": "code",
      "metadata": {
        "id": "zRqL05a-gx-K"
      },
      "source": [
        ""
      ],
      "execution_count": null,
      "outputs": []
    },
    {
      "cell_type": "code",
      "metadata": {
        "id": "jvdKdysFgx7A"
      },
      "source": [
        ""
      ],
      "execution_count": null,
      "outputs": []
    },
    {
      "cell_type": "code",
      "metadata": {
        "id": "vqBwpOewgx0Q"
      },
      "source": [
        ""
      ],
      "execution_count": null,
      "outputs": []
    },
    {
      "cell_type": "markdown",
      "metadata": {
        "id": "7TpV_o0pfTNI"
      },
      "source": [
        "## Visualization"
      ]
    },
    {
      "cell_type": "code",
      "metadata": {
        "id": "GZ8-A8MLfTcM"
      },
      "source": [
        "from matplotlib import pyplot as plt\n",
        "import matplotlib.patches as mpatches\n",
        "import matplotlib\n",
        "from mpl_toolkits.mplot3d import Axes3D\n",
        "plt.rcParams[\"figure.figsize\"] = (plot_width, plot_height)\n",
        "#% matplotlib notebook\n",
        "\n",
        "import seaborn as sns\n",
        "sns.set(font_scale=font_scale) # Affects all plots."
      ],
      "execution_count": null,
      "outputs": []
    },
    {
      "cell_type": "code",
      "metadata": {
        "id": "yGgJymrHkCQH"
      },
      "source": [
        "# 2 Feature plot.\n",
        "feature1 = \"Clump Thickness\"\n",
        "feature2 = \"Marginal Adhesion\"\n",
        "\n",
        "fig = plt.figure(figsize=(8, 8))\n",
        "ax = fig.add_subplot(1, 1, 1)\n",
        "ax.set_xlabel(feature1, fontsize=15)\n",
        "ax.set_ylabel(feature2, fontsize=15)\n",
        "ax.set_title(\"2 feature plot\", fontsize=20)\n",
        "targets = [0, 1]\n",
        "colors = ['b', 'r']\n",
        "for target, color in zip(targets, colors):\n",
        "    indicesToKeep = finalData[\"Class\"] == target\n",
        "    ax.scatter(finalData.loc[indicesToKeep, feature1],\n",
        "               finalData.loc[indicesToKeep, feature2],\n",
        "               c=color,\n",
        "               s=50)\n",
        "ax.legend(labels=[\"benign\", \"malignant\"])\n",
        "ax.grid()"
      ],
      "execution_count": null,
      "outputs": []
    },
    {
      "cell_type": "code",
      "metadata": {
        "id": "fv-29UIFfXWe"
      },
      "source": [
        "# 2 PCA plot.\n",
        "fig = plt.figure(figsize=(8, 8))\n",
        "ax = fig.add_subplot(1, 1, 1)\n",
        "ax.set_xlabel(\"Principal Component 1\", fontsize=15)\n",
        "ax.set_ylabel(\"Principal Component 2\", fontsize=15)\n",
        "ax.set_title(\"2 component PCA\", fontsize=20)\n",
        "targets = [0, 1]\n",
        "colors = ['b', 'r']\n",
        "for target, color in zip(targets, colors):\n",
        "    indicesToKeep = finalPCA[\"Class\"] == target\n",
        "    ax.scatter(finalPCA.loc[indicesToKeep, \"principal component 1\"],\n",
        "               finalPCA.loc[indicesToKeep, \"principal component 2\"],\n",
        "               c=color,\n",
        "               s=50)\n",
        "ax.legend(labels=[\"benign\", \"malignant\"])\n",
        "ax.grid()"
      ],
      "execution_count": null,
      "outputs": []
    },
    {
      "cell_type": "code",
      "metadata": {
        "id": "QuWnniWxfXUW"
      },
      "source": [
        "# 2 own PCA plot.\n"
      ],
      "execution_count": null,
      "outputs": []
    },
    {
      "cell_type": "markdown",
      "metadata": {
        "id": "Y2JCfiZxt5Uh"
      },
      "source": [
        "# Hypothesen"
      ]
    },
    {
      "cell_type": "markdown",
      "metadata": {
        "id": "TfcYqneuuRb3"
      },
      "source": [
        "1.) Die Verteilungen für die 1. Hauptkomponente (principal component) der BreastCancer Daten unterscheiden sich signifikant für die *malignen* (M, bösartigen) und die benignen (B, gutartigen) Fälle."
      ]
    },
    {
      "cell_type": "code",
      "metadata": {
        "id": "ne8ssFrQ236x"
      },
      "source": [
        ""
      ],
      "execution_count": null,
      "outputs": []
    },
    {
      "cell_type": "code",
      "metadata": {
        "id": "GUrjJEQQ234n"
      },
      "source": [
        ""
      ],
      "execution_count": null,
      "outputs": []
    },
    {
      "cell_type": "markdown",
      "metadata": {
        "id": "SbkH6dQGulwG"
      },
      "source": [
        "2.) Die Verteilungen für die 1. Hauptkomponente (principal component) der BreastCancer Daten unterscheiden sich signifikant für die geradzahligen Fälle und die ungeradzahligen Fälle."
      ]
    },
    {
      "cell_type": "code",
      "metadata": {
        "id": "roLCcRktvFxc"
      },
      "source": [
        ""
      ],
      "execution_count": null,
      "outputs": []
    },
    {
      "cell_type": "code",
      "metadata": {
        "id": "0XJM3o8_vFu8"
      },
      "source": [
        ""
      ],
      "execution_count": null,
      "outputs": []
    },
    {
      "cell_type": "markdown",
      "metadata": {
        "id": "JzAk37yLvFUi"
      },
      "source": [
        "# Ergänzende Frage"
      ]
    },
    {
      "cell_type": "markdown",
      "metadata": {
        "id": "6ckz6YtqvK8j"
      },
      "source": [
        "1.) Wie gut wäre eine Klassifikation  M / B  auf Basis allein der 1. Haupt-komponente?"
      ]
    },
    {
      "cell_type": "code",
      "metadata": {
        "id": "dHpFFrWKvP6Y"
      },
      "source": [
        ""
      ],
      "execution_count": null,
      "outputs": []
    },
    {
      "cell_type": "code",
      "metadata": {
        "id": "FHxm-vhcvPr8"
      },
      "source": [
        ""
      ],
      "execution_count": null,
      "outputs": []
    },
    {
      "cell_type": "markdown",
      "metadata": {
        "id": "G79qsxAIvOqh"
      },
      "source": [
        "2.) Wie vergleicht sich dies mit einer Klassifikation allein auf Basis der 1. oder 2. Input-Variablen?"
      ]
    },
    {
      "cell_type": "code",
      "metadata": {
        "id": "rxNkctDV232O"
      },
      "source": [
        ""
      ],
      "execution_count": null,
      "outputs": []
    },
    {
      "cell_type": "code",
      "metadata": {
        "id": "D83n0aBY23zs"
      },
      "source": [
        ""
      ],
      "execution_count": null,
      "outputs": []
    },
    {
      "cell_type": "code",
      "metadata": {
        "id": "9xFZZwrH23wR"
      },
      "source": [
        ""
      ],
      "execution_count": null,
      "outputs": []
    }
  ]
}