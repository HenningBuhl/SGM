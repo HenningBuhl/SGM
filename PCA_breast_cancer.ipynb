{
  "nbformat": 4,
  "nbformat_minor": 0,
  "metadata": {
    "colab": {
      "name": "PCA_breast_cancer.ipynb",
      "private_outputs": true,
      "provenance": [],
      "collapsed_sections": [],
      "authorship_tag": "ABX9TyOpdjwOR6VPsiWPvAj/yu1V",
      "include_colab_link": true
    },
    "kernelspec": {
      "name": "python3",
      "display_name": "Python 3"
    }
  },
  "cells": [
    {
      "cell_type": "markdown",
      "metadata": {
        "id": "view-in-github",
        "colab_type": "text"
      },
      "source": [
        "<a href=\"https://colab.research.google.com/github/HenningBuhl/SGM/blob/main/PCA_breast_cancer.ipynb\" target=\"_parent\"><img src=\"https://colab.research.google.com/assets/colab-badge.svg\" alt=\"Open In Colab\"/></a>"
      ]
    },
    {
      "cell_type": "markdown",
      "metadata": {
        "id": "UhEuYr6l23lM"
      },
      "source": [
        "# PCA Breast Cancer"
      ]
    },
    {
      "cell_type": "code",
      "metadata": {
        "id": "h3HyRDjBDWbH"
      },
      "source": [
        ""
      ],
      "execution_count": null,
      "outputs": []
    },
    {
      "cell_type": "markdown",
      "metadata": {
        "id": "NGU221uNKdmX"
      },
      "source": [
        "# TODO"
      ]
    },
    {
      "cell_type": "code",
      "metadata": {
        "id": "KD8HslD9QiVG"
      },
      "source": [
        "\"\"\"\n",
        "TODO:\n",
        "\n",
        "\n",
        "\n",
        "\"\"\""
      ],
      "execution_count": null,
      "outputs": []
    },
    {
      "cell_type": "markdown",
      "metadata": {
        "id": "uLZ9ayvKoVsg"
      },
      "source": [
        "# Settings"
      ]
    },
    {
      "cell_type": "markdown",
      "metadata": {
        "id": "oDD6XzsUoVnm"
      },
      "source": [
        "## Seed Settings"
      ]
    },
    {
      "cell_type": "code",
      "metadata": {
        "id": "SJqGLE9aoVfA"
      },
      "source": [
        "import numpy as np\n",
        "np.random.seed(0)"
      ],
      "execution_count": null,
      "outputs": []
    },
    {
      "cell_type": "markdown",
      "metadata": {
        "id": "uC26nG0PSRKp"
      },
      "source": [
        "## Plot Settings"
      ]
    },
    {
      "cell_type": "code",
      "metadata": {
        "id": "xaO4w2PVSRGg"
      },
      "source": [
        "plot_width = 12\n",
        "plot_height = 8\n",
        "font_scale = 1.5\n",
        "title_size = 28\n",
        "label_size = 22\n",
        "dpi = 80"
      ],
      "execution_count": null,
      "outputs": []
    },
    {
      "cell_type": "markdown",
      "metadata": {
        "id": "FCH3bq5nsPV0"
      },
      "source": [
        "# Data"
      ]
    },
    {
      "cell_type": "markdown",
      "metadata": {
        "id": "c4MmYdibQpdL"
      },
      "source": [
        "## Paths"
      ]
    },
    {
      "cell_type": "code",
      "metadata": {
        "id": "bg32iXa8QpsX"
      },
      "source": [
        "data_set_name = \"breast cancer\"\n",
        "\n",
        "base_dir = f\"./data/{data_set_name}/\"\n",
        "\n",
        "zip_path = base_dir + f\"{data_set_name}.zip\"\n",
        "\n",
        "data_path = base_dir + \"breast-cancer-wisconsin.data\""
      ],
      "execution_count": null,
      "outputs": []
    },
    {
      "cell_type": "markdown",
      "metadata": {
        "id": "ufyQMwAHMn-C"
      },
      "source": [
        "## Clear Directories"
      ]
    },
    {
      "cell_type": "code",
      "metadata": {
        "id": "d2RxICfHMoV3"
      },
      "source": [
        "import shutil\n",
        "#shutil.rmtree(\"/content/results\")"
      ],
      "execution_count": null,
      "outputs": []
    },
    {
      "cell_type": "markdown",
      "metadata": {
        "id": "KTkNKYT3O_s5"
      },
      "source": [
        "## Download"
      ]
    },
    {
      "cell_type": "code",
      "metadata": {
        "id": "mV1JXKUP7XIN"
      },
      "source": [
        "import pandas as pd\n",
        "pd.set_option('display.max_rows', 500)\n",
        "pd.set_option('display.max_columns', 500)\n",
        "pd.set_option('display.width', 1000)\n",
        "\n",
        "from sklearn.preprocessing import StandardScaler\n",
        "from sklearn.preprocessing import MinMaxScaler\n",
        "\n",
        "from matplotlib import pyplot as plt\n",
        "import matplotlib.patches as mpatches\n",
        "import matplotlib\n",
        "from mpl_toolkits.mplot3d import Axes3D\n",
        "plt.rcParams['figure.figsize'] = (plot_width, plot_height)\n",
        "#% matplotlib notebook\n",
        "\n",
        "import seaborn as sns\n",
        "sns.set(font_scale=font_scale) # Affects all plots."
      ],
      "execution_count": null,
      "outputs": []
    },
    {
      "cell_type": "code",
      "metadata": {
        "id": "mhMWoGqF-UQ5"
      },
      "source": [
        "# Load data from web.\n",
        "!pip install googledrivedownloader\n",
        "from google_drive_downloader import GoogleDriveDownloader as gdd\n",
        "\n",
        "gdd.download_file_from_google_drive(file_id='1miaCgQTpeIYucy4KFMwpT8as6BVkSoxR',\n",
        "                                dest_path=zip_path,\n",
        "                                unzip=True)"
      ],
      "execution_count": null,
      "outputs": []
    },
    {
      "cell_type": "markdown",
      "metadata": {
        "id": "3jVQs08CPqR_"
      },
      "source": [
        "## Load data into Pandas"
      ]
    },
    {
      "cell_type": "code",
      "metadata": {
        "id": "ucWl_KzgMYDk"
      },
      "source": [
        "# Column names.\n",
        "names = [\n",
        "         \"Sample code number\",\n",
        "         \"Clump Thickness\",\n",
        "         \"Uniformity of Cell Size\",\n",
        "         \"Uniformity of Cell Shape\",\n",
        "         \"Marginal Adhesion\",\n",
        "         \"Single Epithelial Cell Size\",\n",
        "         \"Bare Nuclei\",\n",
        "         \"Bland Chromatin\",\n",
        "         \"Normal Nucleoli\",\n",
        "         \"Mitoses\",\n",
        "         \"Class\",\n",
        "         ]\n",
        "\n",
        "# Data types of columns.\n",
        "dtype = { # All other columns are subject to normalization/standardization and are treated as np.float64.\n",
        "            \"class\" : np.int,\n",
        "        }"
      ],
      "execution_count": null,
      "outputs": []
    },
    {
      "cell_type": "code",
      "metadata": {
        "id": "_lZRAz4YZXQ3"
      },
      "source": [
        "data = pd.read_csv(data_path, names=names, dtype=dtype, na_values=\"?\")"
      ],
      "execution_count": null,
      "outputs": []
    },
    {
      "cell_type": "markdown",
      "metadata": {
        "id": "ThQWXHStoCtS"
      },
      "source": [
        "Only the cleveland data contains very few NaN values. All other data sets contain a NaN value in almost all rows."
      ]
    },
    {
      "cell_type": "markdown",
      "metadata": {
        "id": "7cR5IMjxW9LT"
      },
      "source": [
        "## Inspect Data"
      ]
    },
    {
      "cell_type": "code",
      "metadata": {
        "id": "jWeYKBHlOols"
      },
      "source": [
        "# Show some rows.\n",
        "data.head(10)"
      ],
      "execution_count": null,
      "outputs": []
    },
    {
      "cell_type": "code",
      "metadata": {
        "id": "vSjw1RpxehwY"
      },
      "source": [
        "# Print description.\n",
        "print(data.describe())"
      ],
      "execution_count": null,
      "outputs": []
    },
    {
      "cell_type": "markdown",
      "metadata": {
        "id": "9ssAz20GXak5"
      },
      "source": [
        "## Null Values"
      ]
    },
    {
      "cell_type": "code",
      "metadata": {
        "id": "LelxuGQsKfEG"
      },
      "source": [
        "# Print number of null entries in each column.\n",
        "def print_null_count(df):\n",
        "    print(\"Data contains: {:3d} instances\".format(len(data)))\n",
        "    for col in df.columns:\n",
        "        print(\"Null values in column {:12s}: {:d}\".format(col, df[col].isna().sum()))"
      ],
      "execution_count": null,
      "outputs": []
    },
    {
      "cell_type": "code",
      "metadata": {
        "id": "hoyvPyfTKfBU"
      },
      "source": [
        "print_null_count(data)"
      ],
      "execution_count": null,
      "outputs": []
    },
    {
      "cell_type": "code",
      "metadata": {
        "id": "E631DeO8jyyQ"
      },
      "source": [
        "data.dropna(inplace=True)"
      ],
      "execution_count": null,
      "outputs": []
    },
    {
      "cell_type": "markdown",
      "metadata": {
        "id": "Dni9Ev0qe1He"
      },
      "source": [
        "## Normalization"
      ]
    },
    {
      "cell_type": "code",
      "metadata": {
        "id": "md5zfco6Ke8E"
      },
      "source": [
        ""
      ],
      "execution_count": null,
      "outputs": []
    },
    {
      "cell_type": "code",
      "metadata": {
        "id": "yNSwnRzmKe5H"
      },
      "source": [
        ""
      ],
      "execution_count": null,
      "outputs": []
    },
    {
      "cell_type": "markdown",
      "metadata": {
        "id": "a5Bo0_LvXwif"
      },
      "source": [
        "## Data Split"
      ]
    },
    {
      "cell_type": "code",
      "metadata": {
        "id": "WY_jXrov4Gcx"
      },
      "source": [
        ""
      ],
      "execution_count": null,
      "outputs": []
    },
    {
      "cell_type": "markdown",
      "metadata": {
        "id": "qEaIeg3F3Nda"
      },
      "source": [
        "### Remove Columns"
      ]
    },
    {
      "cell_type": "code",
      "metadata": {
        "id": "f18OBMLJ239J"
      },
      "source": [
        "# Remove Sample code number.\n",
        "full_data = data # full_data is required for testing the hypotheses.\n",
        "data = full_data.drop(columns=[\"Sample code number\"])"
      ],
      "execution_count": null,
      "outputs": []
    },
    {
      "cell_type": "markdown",
      "metadata": {
        "id": "puvlK9ebX2bf"
      },
      "source": [
        "### Train Set"
      ]
    },
    {
      "cell_type": "code",
      "metadata": {
        "id": "xJ6GbGGtX2X4"
      },
      "source": [
        ""
      ],
      "execution_count": null,
      "outputs": []
    },
    {
      "cell_type": "markdown",
      "metadata": {
        "id": "eCZS59JXX2Tx"
      },
      "source": [
        "### Test Set"
      ]
    },
    {
      "cell_type": "code",
      "metadata": {
        "id": "k_WZItjoX2Pa"
      },
      "source": [
        ""
      ],
      "execution_count": null,
      "outputs": []
    },
    {
      "cell_type": "markdown",
      "metadata": {
        "id": "VP0FkS7ZX8Jo"
      },
      "source": [
        "# Modeling"
      ]
    },
    {
      "cell_type": "code",
      "metadata": {
        "id": "VKMxIEowX14L"
      },
      "source": [
        ""
      ],
      "execution_count": null,
      "outputs": []
    },
    {
      "cell_type": "code",
      "metadata": {
        "id": "fwlaB8qSXvxc"
      },
      "source": [
        ""
      ],
      "execution_count": null,
      "outputs": []
    },
    {
      "cell_type": "code",
      "metadata": {
        "id": "f7uRlqGAX9Sq"
      },
      "source": [
        ""
      ],
      "execution_count": null,
      "outputs": []
    },
    {
      "cell_type": "markdown",
      "metadata": {
        "id": "pXH0oTSwX9rN"
      },
      "source": [
        "# Evaluation"
      ]
    },
    {
      "cell_type": "code",
      "metadata": {
        "id": "Ub-n7vg-X9QQ"
      },
      "source": [
        ""
      ],
      "execution_count": null,
      "outputs": []
    },
    {
      "cell_type": "code",
      "metadata": {
        "id": "5_BHbswwX9OA"
      },
      "source": [
        ""
      ],
      "execution_count": null,
      "outputs": []
    },
    {
      "cell_type": "code",
      "metadata": {
        "id": "M9KUdFK0XvvB"
      },
      "source": [
        ""
      ],
      "execution_count": null,
      "outputs": []
    },
    {
      "cell_type": "markdown",
      "metadata": {
        "id": "Y2JCfiZxt5Uh"
      },
      "source": [
        "# Hypothesen"
      ]
    },
    {
      "cell_type": "markdown",
      "metadata": {
        "id": "TfcYqneuuRb3"
      },
      "source": [
        "1.) Die  Verteilungen  f ̈ur  die  1.  Hauptkomponente  (principal  component)  der  BreastCancer Daten unterscheiden sich signifikant für die *malignen* (M, bösartigen) unddie benignen (B, gutartigen) Fälle."
      ]
    },
    {
      "cell_type": "code",
      "metadata": {
        "id": "ne8ssFrQ236x"
      },
      "source": [
        ""
      ],
      "execution_count": null,
      "outputs": []
    },
    {
      "cell_type": "code",
      "metadata": {
        "id": "GUrjJEQQ234n"
      },
      "source": [
        ""
      ],
      "execution_count": null,
      "outputs": []
    },
    {
      "cell_type": "markdown",
      "metadata": {
        "id": "SbkH6dQGulwG"
      },
      "source": [
        "2.) Die  Verteilungen  für  die  1.  Hauptkomponente  (principal  component)  der  BreastCancer Daten unterscheiden sich signifikant für die geradzahligen F ̈alle und die ungeradzahligen Fälle."
      ]
    },
    {
      "cell_type": "code",
      "metadata": {
        "id": "roLCcRktvFxc"
      },
      "source": [
        ""
      ],
      "execution_count": null,
      "outputs": []
    },
    {
      "cell_type": "code",
      "metadata": {
        "id": "0XJM3o8_vFu8"
      },
      "source": [
        ""
      ],
      "execution_count": null,
      "outputs": []
    },
    {
      "cell_type": "markdown",
      "metadata": {
        "id": "JzAk37yLvFUi"
      },
      "source": [
        "# Ergänzende Frage"
      ]
    },
    {
      "cell_type": "markdown",
      "metadata": {
        "id": "6ckz6YtqvK8j"
      },
      "source": [
        "1.) Wie gut wäe eine Klassifikation  M / B  auf Basis allein der 1. Haupt-komponente?"
      ]
    },
    {
      "cell_type": "code",
      "metadata": {
        "id": "dHpFFrWKvP6Y"
      },
      "source": [
        ""
      ],
      "execution_count": null,
      "outputs": []
    },
    {
      "cell_type": "code",
      "metadata": {
        "id": "FHxm-vhcvPr8"
      },
      "source": [
        ""
      ],
      "execution_count": null,
      "outputs": []
    },
    {
      "cell_type": "markdown",
      "metadata": {
        "id": "G79qsxAIvOqh"
      },
      "source": [
        "2.) Wie vergleicht sich dies mit einer Klassifikation allein auf Basis der 1. oder 2. Input-Variablen?"
      ]
    },
    {
      "cell_type": "code",
      "metadata": {
        "id": "rxNkctDV232O"
      },
      "source": [
        ""
      ],
      "execution_count": null,
      "outputs": []
    },
    {
      "cell_type": "code",
      "metadata": {
        "id": "D83n0aBY23zs"
      },
      "source": [
        ""
      ],
      "execution_count": null,
      "outputs": []
    },
    {
      "cell_type": "code",
      "metadata": {
        "id": "9xFZZwrH23wR"
      },
      "source": [
        ""
      ],
      "execution_count": null,
      "outputs": []
    }
  ]
}